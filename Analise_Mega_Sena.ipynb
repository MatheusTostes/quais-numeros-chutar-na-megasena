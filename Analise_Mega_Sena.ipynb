{
 "cells": [
  {
   "cell_type": "markdown",
   "metadata": {},
   "source": [
    "# O objetivo deste projeto é buscar por padrões nos sorteios da Mega Sena.\n",
    "## Atividades realizadas:\n",
    "#### 1 - Plot dos numeros mais sorteados\n",
    "     a - entre 1996-2020\n",
    "     b - entre 2015-2020\n",
    "     c - 2010-2015\n",
    "     d - 2005-2010\n",
    "     e - 2000-2005\n",
    "     f - 1996-2000\n",
    "#### 2 - Análise das sequencias que mais surgiram em 2015-2020 a partir dos numeros mais sorteados deste intervalo\n",
    "\n",
    "#### 3 - Cálculo de chance para cada tipo de acerto"
   ]
  },
  {
   "cell_type": "code",
   "execution_count": 198,
   "metadata": {},
   "outputs": [],
   "source": [
    "import pandas as pd\n",
    "from pandas import DataFrame\n",
    "import matplotlib.pyplot as plt\n",
    "import itertools\n",
    "#import nbconvert\n",
    "\n",
    "pd.set_option('display.max_rows', 100)\n",
    "pd.set_option('display.max_columns', 100)\n",
    "pd.set_option('display.width', 100)"
   ]
  },
  {
   "cell_type": "code",
   "execution_count": 143,
   "metadata": {},
   "outputs": [
    {
     "data": {
      "text/html": [
       "<div>\n",
       "<style scoped>\n",
       "    .dataframe tbody tr th:only-of-type {\n",
       "        vertical-align: middle;\n",
       "    }\n",
       "\n",
       "    .dataframe tbody tr th {\n",
       "        vertical-align: top;\n",
       "    }\n",
       "\n",
       "    .dataframe thead th {\n",
       "        text-align: right;\n",
       "    }\n",
       "</style>\n",
       "<table border=\"1\" class=\"dataframe\">\n",
       "  <thead>\n",
       "    <tr style=\"text-align: right;\">\n",
       "      <th></th>\n",
       "      <th>As Loterias - www.asloterias.com.br - Todos Resultados da Mega Sena</th>\n",
       "      <th>Unnamed: 1</th>\n",
       "      <th>Unnamed: 2</th>\n",
       "      <th>Unnamed: 3</th>\n",
       "      <th>Unnamed: 4</th>\n",
       "      <th>Unnamed: 5</th>\n",
       "      <th>Unnamed: 6</th>\n",
       "      <th>Unnamed: 7</th>\n",
       "    </tr>\n",
       "  </thead>\n",
       "  <tbody>\n",
       "    <tr>\n",
       "      <th>0</th>\n",
       "      <td>Este arquivo foi baixado no site www.asloteria...</td>\n",
       "      <td>NaN</td>\n",
       "      <td>NaN</td>\n",
       "      <td>NaN</td>\n",
       "      <td>NaN</td>\n",
       "      <td>NaN</td>\n",
       "      <td>NaN</td>\n",
       "      <td>NaN</td>\n",
       "    </tr>\n",
       "    <tr>\n",
       "      <th>1</th>\n",
       "      <td>Visite o site para baixar a versão mais atuali...</td>\n",
       "      <td>NaN</td>\n",
       "      <td>NaN</td>\n",
       "      <td>NaN</td>\n",
       "      <td>NaN</td>\n",
       "      <td>NaN</td>\n",
       "      <td>NaN</td>\n",
       "      <td>NaN</td>\n",
       "    </tr>\n",
       "    <tr>\n",
       "      <th>2</th>\n",
       "      <td>NaN</td>\n",
       "      <td>NaN</td>\n",
       "      <td>NaN</td>\n",
       "      <td>NaN</td>\n",
       "      <td>NaN</td>\n",
       "      <td>NaN</td>\n",
       "      <td>NaN</td>\n",
       "      <td>NaN</td>\n",
       "    </tr>\n",
       "    <tr>\n",
       "      <th>3</th>\n",
       "      <td>TODOS RESULTADOS DA MEGA SENA POR ORDEM DE SOR...</td>\n",
       "      <td>NaN</td>\n",
       "      <td>NaN</td>\n",
       "      <td>NaN</td>\n",
       "      <td>NaN</td>\n",
       "      <td>NaN</td>\n",
       "      <td>NaN</td>\n",
       "      <td>NaN</td>\n",
       "    </tr>\n",
       "    <tr>\n",
       "      <th>4</th>\n",
       "      <td>NaN</td>\n",
       "      <td>NaN</td>\n",
       "      <td>NaN</td>\n",
       "      <td>NaN</td>\n",
       "      <td>NaN</td>\n",
       "      <td>NaN</td>\n",
       "      <td>NaN</td>\n",
       "      <td>NaN</td>\n",
       "    </tr>\n",
       "    <tr>\n",
       "      <th>5</th>\n",
       "      <td>Concurso</td>\n",
       "      <td>Data</td>\n",
       "      <td>bola 1</td>\n",
       "      <td>bola 2</td>\n",
       "      <td>bola 3</td>\n",
       "      <td>bola 4</td>\n",
       "      <td>bola 5</td>\n",
       "      <td>bola 6</td>\n",
       "    </tr>\n",
       "    <tr>\n",
       "      <th>6</th>\n",
       "      <td>2266</td>\n",
       "      <td>30/05/2020</td>\n",
       "      <td>23</td>\n",
       "      <td>37</td>\n",
       "      <td>59</td>\n",
       "      <td>10</td>\n",
       "      <td>58</td>\n",
       "      <td>31</td>\n",
       "    </tr>\n",
       "    <tr>\n",
       "      <th>7</th>\n",
       "      <td>2265</td>\n",
       "      <td>27/05/2020</td>\n",
       "      <td>50</td>\n",
       "      <td>20</td>\n",
       "      <td>46</td>\n",
       "      <td>23</td>\n",
       "      <td>14</td>\n",
       "      <td>39</td>\n",
       "    </tr>\n",
       "    <tr>\n",
       "      <th>8</th>\n",
       "      <td>2264</td>\n",
       "      <td>23/05/2020</td>\n",
       "      <td>29</td>\n",
       "      <td>19</td>\n",
       "      <td>8</td>\n",
       "      <td>2</td>\n",
       "      <td>37</td>\n",
       "      <td>3</td>\n",
       "    </tr>\n",
       "    <tr>\n",
       "      <th>9</th>\n",
       "      <td>2263</td>\n",
       "      <td>20/05/2020</td>\n",
       "      <td>43</td>\n",
       "      <td>49</td>\n",
       "      <td>57</td>\n",
       "      <td>33</td>\n",
       "      <td>9</td>\n",
       "      <td>24</td>\n",
       "    </tr>\n",
       "  </tbody>\n",
       "</table>\n",
       "</div>"
      ],
      "text/plain": [
       "  As Loterias - www.asloterias.com.br - Todos Resultados da Mega Sena  Unnamed: 1 Unnamed: 2  \\\n",
       "0  Este arquivo foi baixado no site www.asloteria...                          NaN        NaN   \n",
       "1  Visite o site para baixar a versão mais atuali...                          NaN        NaN   \n",
       "2                                                NaN                          NaN        NaN   \n",
       "3  TODOS RESULTADOS DA MEGA SENA POR ORDEM DE SOR...                          NaN        NaN   \n",
       "4                                                NaN                          NaN        NaN   \n",
       "5                                           Concurso                         Data     bola 1   \n",
       "6                                               2266                   30/05/2020         23   \n",
       "7                                               2265                   27/05/2020         50   \n",
       "8                                               2264                   23/05/2020         29   \n",
       "9                                               2263                   20/05/2020         43   \n",
       "\n",
       "  Unnamed: 3 Unnamed: 4 Unnamed: 5 Unnamed: 6 Unnamed: 7  \n",
       "0        NaN        NaN        NaN        NaN        NaN  \n",
       "1        NaN        NaN        NaN        NaN        NaN  \n",
       "2        NaN        NaN        NaN        NaN        NaN  \n",
       "3        NaN        NaN        NaN        NaN        NaN  \n",
       "4        NaN        NaN        NaN        NaN        NaN  \n",
       "5     bola 2     bola 3     bola 4     bola 5     bola 6  \n",
       "6         37         59         10         58         31  \n",
       "7         20         46         23         14         39  \n",
       "8         19          8          2         37          3  \n",
       "9         49         57         33          9         24  "
      ]
     },
     "execution_count": 143,
     "metadata": {},
     "output_type": "execute_result"
    }
   ],
   "source": [
    "file_name = 'megasena.xlsx' \n",
    "df = pd.read_excel(file_name, index_col=0)  # Abrindo o arquivo excel com o pandas.\n",
    "df = df.reset_index()  # Resetando o indice das linhas.\n",
    "df.head(10)  # Plotando as 10 primeiras linhas do dataframe."
   ]
  },
  {
   "cell_type": "code",
   "execution_count": 141,
   "metadata": {},
   "outputs": [
    {
     "data": {
      "text/html": [
       "<div>\n",
       "<style scoped>\n",
       "    .dataframe tbody tr th:only-of-type {\n",
       "        vertical-align: middle;\n",
       "    }\n",
       "\n",
       "    .dataframe tbody tr th {\n",
       "        vertical-align: top;\n",
       "    }\n",
       "\n",
       "    .dataframe thead th {\n",
       "        text-align: right;\n",
       "    }\n",
       "</style>\n",
       "<table border=\"1\" class=\"dataframe\">\n",
       "  <thead>\n",
       "    <tr style=\"text-align: right;\">\n",
       "      <th></th>\n",
       "      <th>n1</th>\n",
       "      <th>n2</th>\n",
       "      <th>n3</th>\n",
       "      <th>n4</th>\n",
       "      <th>n5</th>\n",
       "      <th>n6</th>\n",
       "    </tr>\n",
       "    <tr>\n",
       "      <th>data</th>\n",
       "      <th></th>\n",
       "      <th></th>\n",
       "      <th></th>\n",
       "      <th></th>\n",
       "      <th></th>\n",
       "      <th></th>\n",
       "    </tr>\n",
       "  </thead>\n",
       "  <tbody>\n",
       "    <tr>\n",
       "      <th>30/05/2020</th>\n",
       "      <td>23</td>\n",
       "      <td>37</td>\n",
       "      <td>59</td>\n",
       "      <td>10</td>\n",
       "      <td>58</td>\n",
       "      <td>31</td>\n",
       "    </tr>\n",
       "    <tr>\n",
       "      <th>27/05/2020</th>\n",
       "      <td>50</td>\n",
       "      <td>20</td>\n",
       "      <td>46</td>\n",
       "      <td>23</td>\n",
       "      <td>14</td>\n",
       "      <td>39</td>\n",
       "    </tr>\n",
       "    <tr>\n",
       "      <th>23/05/2020</th>\n",
       "      <td>29</td>\n",
       "      <td>19</td>\n",
       "      <td>8</td>\n",
       "      <td>2</td>\n",
       "      <td>37</td>\n",
       "      <td>3</td>\n",
       "    </tr>\n",
       "    <tr>\n",
       "      <th>20/05/2020</th>\n",
       "      <td>43</td>\n",
       "      <td>49</td>\n",
       "      <td>57</td>\n",
       "      <td>33</td>\n",
       "      <td>9</td>\n",
       "      <td>24</td>\n",
       "    </tr>\n",
       "    <tr>\n",
       "      <th>16/05/2020</th>\n",
       "      <td>7</td>\n",
       "      <td>30</td>\n",
       "      <td>46</td>\n",
       "      <td>23</td>\n",
       "      <td>8</td>\n",
       "      <td>14</td>\n",
       "    </tr>\n",
       "  </tbody>\n",
       "</table>\n",
       "</div>"
      ],
      "text/plain": [
       "            n1  n2  n3  n4  n5  n6\n",
       "data                              \n",
       "30/05/2020  23  37  59  10  58  31\n",
       "27/05/2020  50  20  46  23  14  39\n",
       "23/05/2020  29  19   8   2  37   3\n",
       "20/05/2020  43  49  57  33   9  24\n",
       "16/05/2020   7  30  46  23   8  14"
      ]
     },
     "execution_count": 141,
     "metadata": {},
     "output_type": "execute_result"
    }
   ],
   "source": [
    "df2 = df.drop(['As Loterias - www.asloterias.com.br - Todos Resultados da Mega Sena'], axis=1)  # Descartando a primeira coluna.\n",
    "df2.columns = ['data', 'n1', 'n2', 'n3', 'n4', 'n5', 'n6']  # Renomeando as colunas restantes.\n",
    "df2 = df2.dropna()  # Descartando linhas com algum elemento nulo.\n",
    "df2 = df2.drop(5)  # Descartando a linha 5.\n",
    "df2 = df2.set_index('data')   # Setando as datas como indice das colunas.\n",
    "df2.head()  # Chamando o novo dataframe."
   ]
  },
  {
   "cell_type": "markdown",
   "metadata": {},
   "source": [
    "### 1) Plot dos numeros mais sorteados"
   ]
  },
  {
   "cell_type": "code",
   "execution_count": 4,
   "metadata": {},
   "outputs": [],
   "source": [
    "def numconv(df):  # Definindo função que transforma todos os elementos do dataframe em uma única lista.\n",
    "    lista = df.values.tolist()  # Convertendo o datrafame em uma lista de listas com 4 elementos.\n",
    "    lista = list(itertools.chain(*lista))  # Mesclando as listas internas e retornando somente uma lista grande.\n",
    "    df = DataFrame (lista, columns=['numbers'])  # Definindo a lista como um dataframe de coluna chamada 'numbers'.\n",
    "    df = df['numbers'].value_counts()  # Fazendo um novo dataframe com a contagem de repetição dos numeros do dataframe anterior.\n",
    "    return df"
   ]
  },
  {
   "cell_type": "code",
   "execution_count": 5,
   "metadata": {},
   "outputs": [],
   "source": [
    "def filtro(df,a,b,c,d,e):  # Definindo uma função que filtra o período escolhido a partir dos anos contidos na coluna 'data'.\n",
    "    searchfor = [str(a), str(b), str(c), str(d), str(e)]  # criando uma variável de variáveis, com as entradas do comando convertidas em strings\n",
    "    df = df.reset_index()  # Convertendo a 'data' de índice pra uma coluna normal.\n",
    "    df = df[df.data.str.contains('|'.join(searchfor))]  # Buscando as linhas onde a data contém alguma das variáveis de entrada informadas e definindo um novo dataframe.\n",
    "    df = df.set_index('data')  # Retornando a coluna data como um indice das linhas.\n",
    "    return df"
   ]
  },
  {
   "cell_type": "markdown",
   "metadata": {},
   "source": [
    "## a)"
   ]
  },
  {
   "cell_type": "code",
   "execution_count": 6,
   "metadata": {},
   "outputs": [
    {
     "data": {
      "text/plain": [
       "53    258\n",
       "10    258\n",
       "23    251\n",
       "5     251\n",
       "4     246\n",
       "Name: numbers, dtype: int64"
      ]
     },
     "execution_count": 6,
     "metadata": {},
     "output_type": "execute_result"
    }
   ],
   "source": [
    "dftotal = numconv(df2)  # Aplicando a equação de contagem de números.\n",
    "dftotal.head()  # A primeira coluna indica o número e a segunda indica quantas vezes este foi sorteado (por conta do metodo head, estamos exibindo somente as 5 primeiras linas)."
   ]
  },
  {
   "cell_type": "code",
   "execution_count": 7,
   "metadata": {},
   "outputs": [
    {
     "data": {
      "image/png": "[encoded data removed]",
      "text/plain": [
       "<Figure size 1080x360 with 1 Axes>"
      ]
     },
     "metadata": {
      "needs_background": "light"
     },
     "output_type": "display_data"
    }
   ],
   "source": [
    "# Plotando todos os numeros com suas repetições podemos ver melhor as relações de recorrência.\n",
    "\n",
    "plt.figure(figsize=(15,5))  # Determinando o tamanho do gráfico.\n",
    "ax = plt.gca()  # Especificando os eixos que serão plotados                                              \n",
    "plt.title('Recorrência dos números da Mega Sena 1996-2020')  # Definindo o título do gráfico.            \n",
    "\n",
    "dftotal.plot(kind='bar',x= 'number', ax=ax)  # Plotagem das barras referentes aos números.\n",
    "\n",
    "plt.ylabel('repetições')  # Nomeando o eixo Y.                                              \n",
    "plt.xlabel('número')  # Nomeando o eixo X.                                             \n",
    "plt.xticks(rotation=45)  # Rotacionando os nomes dos números abaixo das barras em 45º.                                           \n",
    "ax.set_axisbelow(True)  # Em conjunto com o comando abaixo, projeta linhas tracejadas sobre o gráfico.\n",
    "ax.yaxis.grid(color='gray', linestyle='dashed') "
   ]
  },
  {
   "cell_type": "code",
   "execution_count": 147,
   "metadata": {},
   "outputs": [
    {
     "data": {
      "text/plain": [
       "2266"
      ]
     },
     "execution_count": 147,
     "metadata": {},
     "output_type": "execute_result"
    }
   ],
   "source": [
    "# É interessante saber também a quantidade de sorteios que ocorreram.\n",
    "len(df2)"
   ]
  },
  {
   "cell_type": "markdown",
   "metadata": {},
   "source": [
    "## b)"
   ]
  },
  {
   "cell_type": "code",
   "execution_count": 150,
   "metadata": {},
   "outputs": [
    {
     "data": {
      "text/plain": [
       "10    67\n",
       "11    66\n",
       "34    61\n",
       "37    61\n",
       "35    60\n",
       "Name: numbers, dtype: int64"
      ]
     },
     "execution_count": 150,
     "metadata": {},
     "output_type": "execute_result"
    }
   ],
   "source": [
    "df2020 = filtro(df2, 2020, 2019, 2018, 2017, 2016)\n",
    "df2020g = numconv(df2020)\n",
    "df2020g.head()"
   ]
  },
  {
   "cell_type": "code",
   "execution_count": 167,
   "metadata": {},
   "outputs": [
    {
     "data": {
      "image/png": "[encoded data removed]",
      "text/plain": [
       "<Figure size 1080x360 with 1 Axes>"
      ]
     },
     "metadata": {
      "needs_background": "light"
     },
     "output_type": "display_data"
    }
   ],
   "source": [
    "# Plotando todos os numeros com suas repetições podemos ver melhor as relações de recorrência.\n",
    "\n",
    "plt.figure(figsize=(15,5))  # Determinando o tamanho do gráfico.\n",
    "ax = plt.gca()  # Especificando os eixos que serão plotados                                              \n",
    "plt.title('Recorrência dos números da Mega Sena 2016-2020')   # Definindo o título do gráfico.            \n",
    "\n",
    "df2020g.plot(kind='bar',x= 'number', ax=ax)  # Plotagem das barras referentes aos números.\n",
    "\n",
    "plt.ylabel('repetições')  # Nomeando o eixo Y.                                              \n",
    "plt.xlabel('número')  # Nomeando o eixo X.                                             \n",
    "plt.xticks(rotation=45)  # Rotacionando os nomes dos números abaixo das barras em 45º.                                           \n",
    "ax.set_axisbelow(True)  # Em conjunto com o comando abaixo, projeta linhas tracejadas sobre o gráfico.\n",
    "ax.yaxis.grid(color='gray', linestyle='dashed') \n"
   ]
  },
  {
   "cell_type": "code",
   "execution_count": 152,
   "metadata": {},
   "outputs": [
    {
     "data": {
      "text/plain": [
       "491"
      ]
     },
     "execution_count": 152,
     "metadata": {},
     "output_type": "execute_result"
    }
   ],
   "source": [
    "len(df2020)"
   ]
  },
  {
   "cell_type": "markdown",
   "metadata": {},
   "source": [
    "## c)"
   ]
  },
  {
   "cell_type": "code",
   "execution_count": 153,
   "metadata": {},
   "outputs": [],
   "source": [
    "df2015 = filtro(df2, 2015, 2014, 2013, 2012, 2011)\n",
    "df2015g = numconv(df2015)"
   ]
  },
  {
   "cell_type": "code",
   "execution_count": 168,
   "metadata": {},
   "outputs": [
    {
     "data": {
      "image/png": "[encoded data removed]",
      "text/plain": [
       "<Figure size 1080x360 with 1 Axes>"
      ]
     },
     "metadata": {
      "needs_background": "light"
     },
     "output_type": "display_data"
    }
   ],
   "source": [
    "# Plotando todos os numeros com suas repetições podemos ver melhor as relações de recorrência.\n",
    "\n",
    "plt.figure(figsize=(15,5))  # Determinando o tamanho do gráfico.\n",
    "ax = plt.gca()  # Especificando os eixos que serão plotados                                              \n",
    "plt.title('Recorrência dos números da Mega Sena 2011-2015')   # Definindo o título do gráfico.            \n",
    "\n",
    "df2015g.plot(kind='bar',x= 'number', ax=ax)  # Plotagem das barras referentes aos números.\n",
    "\n",
    "plt.ylabel('repetições')  # Nomeando o eixo Y.                                              \n",
    "plt.xlabel('número')  # Nomeando o eixo X.                                             \n",
    "plt.xticks(rotation=45)  # Rotacionando os nomes dos números abaixo das barras em 45º.                                           \n",
    "ax.set_axisbelow(True)  # Em conjunto com o comando abaixo, projeta linhas tracejadas sobre o gráfico.\n",
    "ax.yaxis.grid(color='gray', linestyle='dashed')"
   ]
  },
  {
   "cell_type": "code",
   "execution_count": 156,
   "metadata": {},
   "outputs": [
    {
     "data": {
      "text/plain": [
       "530"
      ]
     },
     "execution_count": 156,
     "metadata": {},
     "output_type": "execute_result"
    }
   ],
   "source": [
    "len(df2015)"
   ]
  },
  {
   "cell_type": "markdown",
   "metadata": {},
   "source": [
    "## d)"
   ]
  },
  {
   "cell_type": "code",
   "execution_count": 157,
   "metadata": {},
   "outputs": [],
   "source": [
    "df2010 = filtro(df2, 2010, 2009, 2008, 2007, 2006)\n",
    "df2010g = numconv(df2010)"
   ]
  },
  {
   "cell_type": "code",
   "execution_count": 169,
   "metadata": {},
   "outputs": [
    {
     "data": {
      "image/png": "[encoded data removed]",
      "text/plain": [
       "<Figure size 1080x360 with 1 Axes>"
      ]
     },
     "metadata": {
      "needs_background": "light"
     },
     "output_type": "display_data"
    }
   ],
   "source": [
    "# Plotando todos os numeros com suas repetições podemos ver melhor as relações de recorrência.\n",
    "\n",
    "plt.figure(figsize=(15,5))  # Determinando o tamanho do gráfico.\n",
    "ax = plt.gca()  # Especificando os eixos que serão plotados                                              \n",
    "plt.title('Recorrência dos números da Mega Sena 2006-2010')   # Definindo o título do gráfico.            \n",
    "\n",
    "df2010g.plot(kind='bar',x= 'number', ax=ax)  # Plotagem das barras referentes aos números.\n",
    "\n",
    "plt.ylabel('repetições')  # Nomeando o eixo Y.                                              \n",
    "plt.xlabel('número')  # Nomeando o eixo X.                                             \n",
    "plt.xticks(rotation=45)  # Rotacionando os nomes dos números abaixo das barras em 45º.                                           \n",
    "ax.set_axisbelow(True)  # Em conjunto com o comando abaixo, projeta linhas tracejadas sobre o gráfico.\n",
    "ax.yaxis.grid(color='gray', linestyle='dashed')"
   ]
  },
  {
   "cell_type": "code",
   "execution_count": 159,
   "metadata": {},
   "outputs": [
    {
     "data": {
      "text/plain": [
       "520"
      ]
     },
     "execution_count": 159,
     "metadata": {},
     "output_type": "execute_result"
    }
   ],
   "source": [
    "len(df2010)"
   ]
  },
  {
   "cell_type": "markdown",
   "metadata": {},
   "source": [
    "## e)"
   ]
  },
  {
   "cell_type": "code",
   "execution_count": 164,
   "metadata": {},
   "outputs": [],
   "source": [
    "df2005 = filtro(df2, 2005, 2004, 2003, 2002, 2001)\n",
    "df2005g = numconv(df2005)"
   ]
  },
  {
   "cell_type": "code",
   "execution_count": 165,
   "metadata": {},
   "outputs": [
    {
     "data": {
      "image/png": "[encoded data removed]",
      "text/plain": [
       "<Figure size 1080x360 with 1 Axes>"
      ]
     },
     "metadata": {
      "needs_background": "light"
     },
     "output_type": "display_data"
    }
   ],
   "source": [
    "# Plotando todos os numeros com suas repetições podemos ver melhor as relações de recorrência.\n",
    "\n",
    "plt.figure(figsize=(15,5))  # Determinando o tamanho do gráfico.\n",
    "ax = plt.gca()  # Especificando os eixos que serão plotados                                              \n",
    "plt.title('Recorrência dos números da Mega Sena 2001-2005')   # Definindo o título do gráfico.            \n",
    "\n",
    "df2005g.plot(kind='bar',x= 'number', ax=ax)  # Plotagem das barras referentes aos números.\n",
    "\n",
    "plt.ylabel('repetições')  # Nomeando o eixo Y.                                              \n",
    "plt.xlabel('número')  # Nomeando o eixo X.                                             \n",
    "plt.xticks(rotation=45)  # Rotacionando os nomes dos números abaixo das barras em 45º.                                           \n",
    "ax.set_axisbelow(True)  # Em conjunto com o comando abaixo, projeta linhas tracejadas sobre o gráfico.\n",
    "ax.yaxis.grid(color='gray', linestyle='dashed')"
   ]
  },
  {
   "cell_type": "code",
   "execution_count": 161,
   "metadata": {},
   "outputs": [
    {
     "data": {
      "text/plain": [
       "60"
      ]
     },
     "execution_count": 161,
     "metadata": {},
     "output_type": "execute_result"
    }
   ],
   "source": [
    "len(df2005)"
   ]
  },
  {
   "cell_type": "markdown",
   "metadata": {},
   "source": [
    "## f)"
   ]
  },
  {
   "cell_type": "code",
   "execution_count": 171,
   "metadata": {},
   "outputs": [],
   "source": [
    "df2000 = filtro(df2, 2000, 1999, 1998, 1997, 1996)\n",
    "df2000g = numconv(df2000)"
   ]
  },
  {
   "cell_type": "code",
   "execution_count": 172,
   "metadata": {},
   "outputs": [
    {
     "data": {
      "image/png": "[encoded data removed]",
      "text/plain": [
       "<Figure size 1080x360 with 1 Axes>"
      ]
     },
     "metadata": {
      "needs_background": "light"
     },
     "output_type": "display_data"
    }
   ],
   "source": [
    "# Plotando todos os numeros com suas repetições podemos ver melhor as relações de recorrência.\n",
    "\n",
    "plt.figure(figsize=(15,5))  # Determinando o tamanho do gráfico.\n",
    "ax = plt.gca()  # Especificando os eixos que serão plotados                                              \n",
    "plt.title('Recorrência dos números da Mega Sena 1996-2000')   # Definindo o título do gráfico.            \n",
    "\n",
    "df2000g.plot(kind='bar',x= 'number', ax=ax)  # Plotagem das barras referentes aos números.\n",
    "\n",
    "plt.ylabel('repetições')  # Nomeando o eixo Y.                                              \n",
    "plt.xlabel('número')  # Nomeando o eixo X.                                             \n",
    "plt.xticks(rotation=45)  # Rotacionando os nomes dos números abaixo das barras em 45º.                                           \n",
    "ax.set_axisbelow(True)  # Em conjunto com o comando abaixo, projeta linhas tracejadas sobre o gráfico.\n",
    "ax.yaxis.grid(color='gray', linestyle='dashed')"
   ]
  },
  {
   "cell_type": "code",
   "execution_count": 173,
   "metadata": {},
   "outputs": [
    {
     "data": {
      "text/plain": [
       "252"
      ]
     },
     "execution_count": 173,
     "metadata": {},
     "output_type": "execute_result"
    }
   ],
   "source": [
    "len(df2000)"
   ]
  },
  {
   "cell_type": "markdown",
   "metadata": {},
   "source": [
    "#### 2 - Análise das sequencias que mais surgiram em 2015-2020 a partir dos numeros mais sorteados deste intervalo."
   ]
  },
  {
   "cell_type": "code",
   "execution_count": 182,
   "metadata": {},
   "outputs": [],
   "source": [
    "df2020b = filtro(df2, 2020, 2019, 2018, 2017, 2016)\n",
    "df2020c = df2020b.values.tolist()"
   ]
  },
  {
   "cell_type": "code",
   "execution_count": 186,
   "metadata": {},
   "outputs": [
    {
     "data": {
      "text/html": [
       "<div>\n",
       "<style scoped>\n",
       "    .dataframe tbody tr th:only-of-type {\n",
       "        vertical-align: middle;\n",
       "    }\n",
       "\n",
       "    .dataframe tbody tr th {\n",
       "        vertical-align: top;\n",
       "    }\n",
       "\n",
       "    .dataframe thead th {\n",
       "        text-align: right;\n",
       "    }\n",
       "</style>\n",
       "<table border=\"1\" class=\"dataframe\">\n",
       "  <thead>\n",
       "    <tr style=\"text-align: right;\">\n",
       "      <th></th>\n",
       "      <th>n1</th>\n",
       "      <th>n2</th>\n",
       "      <th>n3</th>\n",
       "      <th>n4</th>\n",
       "      <th>n5</th>\n",
       "      <th>n6</th>\n",
       "      <th>contador</th>\n",
       "      <th>numero1</th>\n",
       "      <th>numero2</th>\n",
       "      <th>numero3</th>\n",
       "      <th>numero4</th>\n",
       "    </tr>\n",
       "  </thead>\n",
       "  <tbody>\n",
       "    <tr>\n",
       "      <th>266</th>\n",
       "      <td>6</td>\n",
       "      <td>37</td>\n",
       "      <td>34</td>\n",
       "      <td>10</td>\n",
       "      <td>3</td>\n",
       "      <td>17</td>\n",
       "      <td>4</td>\n",
       "      <td>6.0</td>\n",
       "      <td>37.0</td>\n",
       "      <td>34.0</td>\n",
       "      <td>10.0</td>\n",
       "    </tr>\n",
       "    <tr>\n",
       "      <th>276</th>\n",
       "      <td>37</td>\n",
       "      <td>26</td>\n",
       "      <td>11</td>\n",
       "      <td>24</td>\n",
       "      <td>59</td>\n",
       "      <td>34</td>\n",
       "      <td>3</td>\n",
       "      <td>37.0</td>\n",
       "      <td>11.0</td>\n",
       "      <td>34.0</td>\n",
       "      <td>NaN</td>\n",
       "    </tr>\n",
       "    <tr>\n",
       "      <th>166</th>\n",
       "      <td>1</td>\n",
       "      <td>35</td>\n",
       "      <td>13</td>\n",
       "      <td>11</td>\n",
       "      <td>10</td>\n",
       "      <td>49</td>\n",
       "      <td>3</td>\n",
       "      <td>35.0</td>\n",
       "      <td>11.0</td>\n",
       "      <td>10.0</td>\n",
       "      <td>NaN</td>\n",
       "    </tr>\n",
       "    <tr>\n",
       "      <th>384</th>\n",
       "      <td>41</td>\n",
       "      <td>35</td>\n",
       "      <td>37</td>\n",
       "      <td>10</td>\n",
       "      <td>19</td>\n",
       "      <td>9</td>\n",
       "      <td>3</td>\n",
       "      <td>35.0</td>\n",
       "      <td>37.0</td>\n",
       "      <td>10.0</td>\n",
       "      <td>NaN</td>\n",
       "    </tr>\n",
       "    <tr>\n",
       "      <th>59</th>\n",
       "      <td>43</td>\n",
       "      <td>11</td>\n",
       "      <td>6</td>\n",
       "      <td>55</td>\n",
       "      <td>53</td>\n",
       "      <td>10</td>\n",
       "      <td>3</td>\n",
       "      <td>11.0</td>\n",
       "      <td>6.0</td>\n",
       "      <td>10.0</td>\n",
       "      <td>NaN</td>\n",
       "    </tr>\n",
       "    <tr>\n",
       "      <th>175</th>\n",
       "      <td>12</td>\n",
       "      <td>11</td>\n",
       "      <td>10</td>\n",
       "      <td>59</td>\n",
       "      <td>38</td>\n",
       "      <td>37</td>\n",
       "      <td>3</td>\n",
       "      <td>11.0</td>\n",
       "      <td>10.0</td>\n",
       "      <td>37.0</td>\n",
       "      <td>NaN</td>\n",
       "    </tr>\n",
       "    <tr>\n",
       "      <th>22</th>\n",
       "      <td>11</td>\n",
       "      <td>5</td>\n",
       "      <td>42</td>\n",
       "      <td>3</td>\n",
       "      <td>34</td>\n",
       "      <td>37</td>\n",
       "      <td>3</td>\n",
       "      <td>11.0</td>\n",
       "      <td>34.0</td>\n",
       "      <td>37.0</td>\n",
       "      <td>NaN</td>\n",
       "    </tr>\n",
       "    <tr>\n",
       "      <th>6</th>\n",
       "      <td>37</td>\n",
       "      <td>12</td>\n",
       "      <td>14</td>\n",
       "      <td>34</td>\n",
       "      <td>35</td>\n",
       "      <td>47</td>\n",
       "      <td>3</td>\n",
       "      <td>37.0</td>\n",
       "      <td>34.0</td>\n",
       "      <td>35.0</td>\n",
       "      <td>NaN</td>\n",
       "    </tr>\n",
       "    <tr>\n",
       "      <th>125</th>\n",
       "      <td>10</td>\n",
       "      <td>19</td>\n",
       "      <td>11</td>\n",
       "      <td>37</td>\n",
       "      <td>41</td>\n",
       "      <td>17</td>\n",
       "      <td>3</td>\n",
       "      <td>10.0</td>\n",
       "      <td>11.0</td>\n",
       "      <td>37.0</td>\n",
       "      <td>NaN</td>\n",
       "    </tr>\n",
       "    <tr>\n",
       "      <th>239</th>\n",
       "      <td>11</td>\n",
       "      <td>15</td>\n",
       "      <td>39</td>\n",
       "      <td>37</td>\n",
       "      <td>29</td>\n",
       "      <td>44</td>\n",
       "      <td>2</td>\n",
       "      <td>11.0</td>\n",
       "      <td>37.0</td>\n",
       "      <td>NaN</td>\n",
       "      <td>NaN</td>\n",
       "    </tr>\n",
       "  </tbody>\n",
       "</table>\n",
       "</div>"
      ],
      "text/plain": [
       "     n1  n2  n3  n4  n5  n6  contador  numero1  numero2  numero3  numero4\n",
       "266   6  37  34  10   3  17         4      6.0     37.0     34.0     10.0\n",
       "276  37  26  11  24  59  34         3     37.0     11.0     34.0      NaN\n",
       "166   1  35  13  11  10  49         3     35.0     11.0     10.0      NaN\n",
       "384  41  35  37  10  19   9         3     35.0     37.0     10.0      NaN\n",
       "59   43  11   6  55  53  10         3     11.0      6.0     10.0      NaN\n",
       "175  12  11  10  59  38  37         3     11.0     10.0     37.0      NaN\n",
       "22   11   5  42   3  34  37         3     11.0     34.0     37.0      NaN\n",
       "6    37  12  14  34  35  47         3     37.0     34.0     35.0      NaN\n",
       "125  10  19  11  37  41  17         3     10.0     11.0     37.0      NaN\n",
       "239  11  15  39  37  29  44         2     11.0     37.0      NaN      NaN"
      ]
     },
     "execution_count": 186,
     "metadata": {},
     "output_type": "execute_result"
    }
   ],
   "source": [
    "def contador(listas):  # Definindo a função que vai contar quantos valores do sorteio batem com os 6 valores mais sorteados do período 2015-2020.\n",
    "    dic = [10, 37, 11, 35, 34, 6]  # Criando uma lista com os 6 valores mais recorrentes.\n",
    "    count = 0  # Criando um contador\n",
    "    contagem = []  # Criando uma lista com as contagens.\n",
    "    for i in listas:  # Para cada row do dataframe:\n",
    "        for h in i:   # Para cada elemento da row:\n",
    "            if h in dic:  # Se o elemento estiver dentro da lista 'dic', onde inserimos os números que mais são sorteados:\n",
    "                count += 1  # Aumenta uma unidade no contador temporário.\n",
    "        contagem.append(count)  # Ao termino do loop for que confere cada elemento, adiciona à lista 'contagem', o valor acumulado no 'counts'.\n",
    "        count = 0  # Reseta a variável 'counts' para começar a contagem dos elementos da próxima row partindo de zero.\n",
    "    return contagem\n",
    "\n",
    "def sequencia(listas):  # Definindo a função que vai inserir uma nova coluna no dataframe com os elementos que coincidem com os 6 mais recorrentes do período 2015-2020.\n",
    "    dic = [10, 37, 11, 35, 34, 6]  # Criando uma lista com os 6 valores mais recorrentes.\n",
    "    seq = []  # Criando uma lista que vai formar a coluna do dataframe.\n",
    "    seq2 = []  # Criando uma segunda lista que vai conter cada número coincidente com cada valor.\n",
    "    for i in listas:  # Para cada row do dataframe:\n",
    "        for h in i:  # Para cada elemento da row:\n",
    "            if h in dic:  # Se o elemento estiver dentro da lista 'dic', onde inserimos os números que mais são sorteados: \n",
    "                seq2.append(h)  # Adicionar o elemento na lista 'seq2' temporária.\n",
    "        seq.append(seq2)  # Adiciona a lista 'seq2' na lista 'seq'.\n",
    "        seq2 = []  # Reseta a lista 'seq2' para uma nova analise da próxima row.\n",
    "    return seq\n",
    "\n",
    "ctd = contador(df2020c)  # Aplicando a função de contagem.\n",
    "dfcount = DataFrame (ctd,columns=['contador'])  # Criando um novo dataframe que cita quantos elementos coincidiram.\n",
    "\n",
    "sqc = sequencia(df2020c)  # Aplicando a função de sequencias.      \n",
    "dfseq = DataFrame (sqc, columns=['numero1', 'numero2', 'numero3', 'numero4'])  # Criando um novo dataframe que cita os valores coincidentes em 4 colunas (pois 4 aqui foi o maior numero de acertos).\n",
    "\n",
    "\n",
    "dflists = DataFrame (df2020c, columns=['n1', 'n2', 'n3', 'n4', 'n5', 'n6', ])  # Retornando a lista com os sorteios como um dataframe.\n",
    "\n",
    "result = pd.concat([dflists, dfcount, dfseq], axis=1)  # Adicionando ao dataframe de sorteios o dataframe de contagem e o dataframe de sequencias. \n",
    "results = result.sort_values(by ='contador', ascending=False )  # Ordenando as linhas po quantidade de acertos.\n",
    "results.head(10)  # Exibindo as 10 primeiras linhas."
   ]
  },
  {
   "cell_type": "markdown",
   "metadata": {},
   "source": [
    "A sequencia 6, 37, 34, 10 foi a que mais se repetiu entre os 6 digitos, com somente uma repetição."
   ]
  },
  {
   "cell_type": "markdown",
   "metadata": {},
   "source": [
    "#### 3 - Cálculo de chance para cada tipo de acerto"
   ]
  },
  {
   "cell_type": "markdown",
   "metadata": {},
   "source": [
    "##### Combinações possíveis com 6 dígitos da Mega Sena:\n",
    "(60!)/(6!(60-6)!) = 50.063.860\n",
    "\n",
    "##### Chance de acertar todos os 6 dígitos:\n",
    "1/50063860 ou 0,000002%\n",
    "\n",
    "##### Combinações possíveis com 5 digitos:\n",
    "(60!)/(5!(60-5)!) = 5.461.512\n",
    "\n",
    "##### Chance de acertar todos os 5 dígitos:\n",
    "1/5461512 ou 0.00002%\n",
    "\n",
    "##### Combinações possíveis com 4 digitos:\n",
    "(60!)/(4!(60-4)!) = 487.635\n",
    "\n",
    "\n",
    "##### Chance de acertar todos os 4 dígitos:\n",
    "1/487635 ou 0.0002%"
   ]
  },
  {
   "cell_type": "markdown",
   "metadata": {},
   "source": [
    "### Conclusão até aqui: \n",
    "    Podemos ver que, por mais que alguns números acabem se repetindo algumas vezes a mais, existem tantas combinações que, a chance de acertar uma sequência de 4 ou mais digitos tornasse, em sua maior parte, pura sorte."
   ]
  }
 ],
 "metadata": {
  "kernelspec": {
   "display_name": "Python 3",
   "language": "python",
   "name": "python3"
  },
  "language_info": {
   "codemirror_mode": {
    "name": "ipython",
    "version": 3
   },
   "file_extension": ".py",
   "mimetype": "text/x-python",
   "name": "python",
   "nbconvert_exporter": "python",
   "pygments_lexer": "ipython3",
   "version": "3.7.6"
  }
 },
 "nbformat": 4,
 "nbformat_minor": 4
}
